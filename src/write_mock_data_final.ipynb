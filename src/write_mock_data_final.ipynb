{
 "cells": [
  {
   "cell_type": "code",
   "execution_count": 165,
   "metadata": {},
   "outputs": [],
   "source": [
    "import json\n",
    "import pandas as pd\n",
    "import os\n",
    "from scipy.ndimage import uniform_filter1d"
   ]
  },
  {
   "cell_type": "code",
   "execution_count": 166,
   "metadata": {},
   "outputs": [],
   "source": [
    "final_dir = \"C:\\\\Users\\\\daddyj\\\\Documents\\\\Batteryze\\\\Tarform\\\\final_data\"\n",
    "\n",
    "data = {}\n",
    "data[\"voltage\"] = []\n",
    "data[\"temperature\"] = []\n",
    "data[\"current\"] = []\n",
    "data[\"soc\"] = []\n",
    "data[\"charge\"] = []\n",
    "data[\"self_discharge\"] = []\n",
    "data[\"resistance\"] = []\n",
    "data[\"cycles\"] = []\n",
    "data[\"state_of_health\"] = []\n",
    "\n",
    "temp_soh_data = []"
   ]
  },
  {
   "cell_type": "code",
   "execution_count": 167,
   "metadata": {},
   "outputs": [],
   "source": [
    "for fname in os.listdir(final_dir):\n",
    "    df = pd.read_csv(os.path.join(final_dir, fname))\n",
    "    df = df.iloc[::300,:]\n",
    "    df = df.dropna()\n",
    "    df[\"timestamp\"] = pd.to_datetime(df[\"timestamp\"])\n",
    "    df[\"timestamp\"] = df[\"timestamp\"].apply(lambda x: x.timestamp()*1000)\n",
    "   \n",
    "    a = df.apply(lambda x: {\"x\": x[\"timestamp\"], \"y\": float(\"{:.2f}\".format(x[\"voltage\"]))}, axis=1)\n",
    "    data[\"voltage\"] += list(a)\n",
    "\n",
    "    b = df.apply(lambda x: {\"x\": x[\"timestamp\"], \"y\": float(\"{:.2f}\".format(x[\"temperature\"]))}, axis=1)\n",
    "    data[\"temperature\"] += list(b)\n",
    "\n",
    "    data[\"current\"] += list(df.apply(lambda x: {\"x\": x[\"timestamp\"], \"y\": float(\"{:.2f}\".format(x[\"current\"]))}, axis=1))\n",
    "    data[\"soc\"] += list(df.apply(lambda x: {\"x\": x[\"timestamp\"], \"y\": float(\"{:.2f}\".format(x[\"soc\"]))}, axis=1))\n",
    "    data[\"charge\"] += list(df.apply(lambda x: {\"x\": x[\"timestamp\"], \"y\": float(\"{:.2f}\".format(x[\"charge\"]))}, axis=1))\n",
    "\n",
    "    # df.loc[df[\"resistance\"] < 0, \"resistance\"] = 0.0\n",
    "    # print(df[\"resistance\"].min())\n",
    "    data[\"resistance\"] += list(df.apply(lambda x: {\"x\": x[\"timestamp\"], \"y\": float(\"{:.2f}\".format(max(0, x[\"resistance\"]*1000)))}, axis=1))\n",
    "    temp_soh_data += list(df[\"soh\"])"
   ]
  },
  {
   "cell_type": "code",
   "execution_count": 168,
   "metadata": {},
   "outputs": [],
   "source": [
    "temp_soh_data = uniform_filter1d(temp_soh_data, size=5000)"
   ]
  },
  {
   "cell_type": "code",
   "execution_count": 169,
   "metadata": {},
   "outputs": [],
   "source": [
    "for i in range(len(temp_soh_data)):\n",
    "    data[\"state_of_health\"].append(\n",
    "        {\n",
    "            \"x\": data[\"soc\"][i][\"x\"],\n",
    "            \"y\": float(\"{:.2f}\".format(temp_soh_data[i]))\n",
    "        }\n",
    "    )\n"
   ]
  },
  {
   "cell_type": "code",
   "execution_count": 170,
   "metadata": {},
   "outputs": [],
   "source": [
    "json.dump(data, open(\"C:\\\\Users\\\\daddyj\\\\Documents\\\\Batteryze\\\\Batteryze_Frontend\\\\src\\\\mock\\\\data\\\\Tarform_Test_Battery_2.json\", \"w+\" ))"
   ]
  },
  {
   "cell_type": "code",
   "execution_count": null,
   "metadata": {},
   "outputs": [],
   "source": []
  }
 ],
 "metadata": {
  "kernelspec": {
   "display_name": "backend",
   "language": "python",
   "name": "python3"
  },
  "language_info": {
   "codemirror_mode": {
    "name": "ipython",
    "version": 3
   },
   "file_extension": ".py",
   "mimetype": "text/x-python",
   "name": "python",
   "nbconvert_exporter": "python",
   "pygments_lexer": "ipython3",
   "version": "3.8.10"
  },
  "orig_nbformat": 4
 },
 "nbformat": 4,
 "nbformat_minor": 2
}
