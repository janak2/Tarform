{
 "cells": [
  {
   "cell_type": "code",
   "execution_count": 1,
   "metadata": {},
   "outputs": [],
   "source": [
    "import pandas as pd\n",
    "import os"
   ]
  },
  {
   "cell_type": "code",
   "execution_count": 17,
   "metadata": {},
   "outputs": [],
   "source": [
    "voltage_dir = 'C:\\\\Users\\\\daddyj\\\\Documents\\\\Batteryze\\\\Tarform\\\\voltage'\n",
    "current_dir = \"C:\\\\Users\\\\daddyj\\\\Documents\\\\Batteryze\\\\Tarform\\\\current\"\n",
    "temperature_dir = \"C:\\\\Users\\\\daddyj\\\\Documents\\\\Batteryze\\\\Tarform\\\\temperature\"\n",
    "final_dir = \"C:\\\\Users\\\\daddyj\\\\Documents\\\\Batteryze\\\\Tarform\\\\final_data\""
   ]
  },
  {
   "cell_type": "code",
   "execution_count": null,
   "metadata": {},
   "outputs": [],
   "source": [
    "for file_name in os.listdir(voltage_dir):\n",
    "    v = pd.read_csv(os.path.join(voltage_dir, file_name))\n",
    "    i = pd.read_csv(os.path.join(current_dir, file_name))\n",
    "    t = pd.read_csv(os.path.join(temperature_dir, file_name))\n",
    "    v = v.drop_duplicates(\"timestamp\")\n",
    "    i = i.drop_duplicates(\"timestamp\")\n",
    "    t = t.drop_duplicates(\"timestamp\")\n",
    "    df = v.merge(i, on=\"timestamp\")\n",
    "    df = df.merge(t, on=\"timestamp\")\n",
    "    df = df.rename({\"total\": \"voltage\" , \"data3_y\": \"temperature\"}, axis=1)\n",
    "    df = df.drop(df.columns[[0,2,3,4,5,6,8,9,10, 14,15,16,17,18]], axis=1)\n",
    "    df.to_csv(os.path.join(final_dir, file_name))"
   ]
  },
  {
   "cell_type": "code",
   "execution_count": 50,
   "metadata": {},
   "outputs": [],
   "source": []
  },
  {
   "cell_type": "code",
   "execution_count": null,
   "metadata": {},
   "outputs": [],
   "source": []
  }
 ],
 "metadata": {
  "kernelspec": {
   "display_name": "backend",
   "language": "python",
   "name": "python3"
  },
  "language_info": {
   "codemirror_mode": {
    "name": "ipython",
    "version": 3
   },
   "file_extension": ".py",
   "mimetype": "text/x-python",
   "name": "python",
   "nbconvert_exporter": "python",
   "pygments_lexer": "ipython3",
   "version": "3.8.10"
  },
  "orig_nbformat": 4
 },
 "nbformat": 4,
 "nbformat_minor": 2
}
