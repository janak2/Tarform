{
 "cells": [
  {
   "cell_type": "code",
   "execution_count": 49,
   "metadata": {},
   "outputs": [],
   "source": [
    "import json\n",
    "import pandas as pd\n",
    "import os"
   ]
  },
  {
   "cell_type": "code",
   "execution_count": 50,
   "metadata": {},
   "outputs": [],
   "source": [
    "data = {}"
   ]
  },
  {
   "cell_type": "code",
   "execution_count": 51,
   "metadata": {},
   "outputs": [],
   "source": [
    "base_dir = \"../voltage/\"\n",
    "data[\"voltage\"] = []\n",
    "for fname in os.listdir(base_dir):\n",
    "    df = pd.read_csv(os.path.join(base_dir, fname))\n",
    "    df = df.iloc[::300,:]\n",
    "    df[\"timestamp\"] = pd.to_datetime(df[\"timestamp\"])\n",
    "    a = df.apply(lambda x: {\"x\": x[\"timestamp\"].timestamp()*1000, \"y\": float(\"{:.2f}\".format(x[\"total\"]))}, axis=1)\n",
    "    data[\"voltage\"] += list(a)"
   ]
  },
  {
   "cell_type": "code",
   "execution_count": 52,
   "metadata": {},
   "outputs": [],
   "source": [
    "base_dir = \"../temperature/\"\n",
    "data[\"temperature\"] = []\n",
    "for fname in os.listdir(base_dir):\n",
    "    df = pd.read_csv(os.path.join(base_dir, fname))\n",
    "    df = df.iloc[::300,:]\n",
    "    df[\"timestamp\"] = pd.to_datetime(df[\"timestamp\"])\n",
    "    a = df.apply(lambda x: {\"x\": x[\"timestamp\"].timestamp()*1000, \"y\": float(\"{:.2f}\".format(x[\"data3\"]))}, axis=1)\n",
    "    data[\"temperature\"] += list(a)"
   ]
  },
  {
   "cell_type": "code",
   "execution_count": 53,
   "metadata": {},
   "outputs": [],
   "source": [
    "base_dir = \"../current/\"\n",
    "data[\"current\"] = []\n",
    "data[\"soc\"] = []\n",
    "data[\"charge\"] = []\n",
    "for fname in os.listdir(base_dir):\n",
    "    df = pd.read_csv(os.path.join(base_dir, fname))\n",
    "    df = df.iloc[::300,:]\n",
    "    df[\"timestamp\"] = pd.to_datetime(df[\"timestamp\"])\n",
    "    data[\"current\"] += list(df.apply(lambda x: {\"x\": x[\"timestamp\"].timestamp()*1000, \"y\": float(\"{:.2f}\".format(x[\"current\"]))}, axis=1))\n",
    "    data[\"soc\"] += list(df.apply(lambda x: {\"x\": x[\"timestamp\"].timestamp()*1000, \"y\": float(\"{:.2f}\".format(x[\"soc\"]))}, axis=1))\n",
    "    data[\"charge\"] += list(df.apply(lambda x: {\"x\": x[\"timestamp\"].timestamp()*1000, \"y\": float(\"{:.2f}\".format(x[\"charge\"]))}, axis=1))"
   ]
  },
  {
   "cell_type": "code",
   "execution_count": 54,
   "metadata": {},
   "outputs": [],
   "source": [
    "data[\"self_discharge\"] = []\n",
    "data[\"resistance\"] = []\n",
    "data[\"cycles\"] = []\n",
    "data[\"state_of_health\"] = []"
   ]
  },
  {
   "cell_type": "code",
   "execution_count": 55,
   "metadata": {},
   "outputs": [],
   "source": [
    "json.dump(data, open(\"C:\\\\Users\\\\daddyj\\\\Documents\\\\Batteryze\\\\Batteryze_Frontend\\\\src\\\\mock\\\\data\\\\Tarform_Test_Battery_2.json\", \"w+\" ))"
   ]
  }
 ],
 "metadata": {
  "kernelspec": {
   "display_name": "backend",
   "language": "python",
   "name": "python3"
  },
  "language_info": {
   "codemirror_mode": {
    "name": "ipython",
    "version": 3
   },
   "file_extension": ".py",
   "mimetype": "text/x-python",
   "name": "python",
   "nbconvert_exporter": "python",
   "pygments_lexer": "ipython3",
   "version": "3.8.10"
  },
  "orig_nbformat": 4
 },
 "nbformat": 4,
 "nbformat_minor": 2
}
